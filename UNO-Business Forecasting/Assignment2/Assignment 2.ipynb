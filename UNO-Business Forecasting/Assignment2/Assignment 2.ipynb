{
 "cells": [
  {
   "cell_type": "code",
   "execution_count": 1,
   "metadata": {},
   "outputs": [],
   "source": [
    "import pandas as pd\n",
    "\n",
    "pd.set_option('display.max_rows', None)\n",
    "pd.set_option('display.max_columns', None)\n",
    "\n",
    "train = pd.read_csv('https://github.com/dustywhite7/Econ8310/raw/master/AssignmentData/assignment3.csv')\n",
    "test = pd.read_csv('https://github.com/dustywhite7/Econ8310/raw/master/AssignmentData/assignment3test.csv')"
   ]
  },
  {
   "cell_type": "code",
   "execution_count": 2,
   "metadata": {},
   "outputs": [],
   "source": [
    "import numpy as np\n",
    "\n",
    "from sklearn.tree import DecisionTreeClassifier\n",
    "from sklearn.metrics import accuracy_score\n",
    "from sklearn.model_selection import train_test_split\n",
    "\n",
    "y = train['meal']\n",
    "x = train.drop(['meal', 'id', 'DateTime'], axis = 1)\n",
    "\n",
    "model = DecisionTreeClassifier(min_samples_leaf=2, random_state = 42)\n",
    "\n",
    "x, xt, y, yt = train_test_split(x, y, test_size=0.4, random_state=42)\n",
    "\n",
    "modelFit = model.fit(x,y)"
   ]
  },
  {
   "cell_type": "code",
   "execution_count": 3,
   "metadata": {},
   "outputs": [],
   "source": [
    "pred = modelFit.predict(xt)"
   ]
  },
  {
   "cell_type": "code",
   "execution_count": 4,
   "metadata": {},
   "outputs": [
    {
     "name": "stdout",
     "output_type": "stream",
     "text": [
      "In-sample accuracy: 92.4%\n",
      "Out of sample accuracy: 88.59%\n"
     ]
    }
   ],
   "source": [
    "print(\"In-sample accuracy: %s%%\" % str(round(100*accuracy_score(y, model.predict(x)), 2)))\n",
    "print(\"Out of sample accuracy: %s%%\" % str(round(100*accuracy_score(yt, model.predict(xt)), 2)))"
   ]
  },
  {
   "cell_type": "code",
   "execution_count": 5,
   "metadata": {},
   "outputs": [],
   "source": [
    "x_test = test.drop(['meal', 'id', 'DateTime'], axis = 1)\n",
    "\n",
    "pred = modelFit.predict(x_test)"
   ]
  }
 ],
 "metadata": {
  "kernelspec": {
   "display_name": "Python 3",
   "language": "python",
   "name": "python3"
  },
  "language_info": {
   "codemirror_mode": {
    "name": "ipython",
    "version": 3
   },
   "file_extension": ".py",
   "mimetype": "text/x-python",
   "name": "python",
   "nbconvert_exporter": "python",
   "pygments_lexer": "ipython3",
   "version": "3.12.7"
  }
 },
 "nbformat": 4,
 "nbformat_minor": 2
}
