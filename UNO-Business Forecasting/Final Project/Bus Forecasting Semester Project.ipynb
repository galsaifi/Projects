{
 "cells": [
  {
   "cell_type": "code",
   "execution_count": null,
   "metadata": {},
   "outputs": [],
   "source": [
    "import pandas as pd\n",
    "\n",
    "pd.set_option('display.max_columns', None)\n",
    "\n",
    "purchases = pd.read_csv('data/amazon-purchases.csv')\n",
    "survey = pd.read_csv('data/survey.csv')"
   ]
  },
  {
   "cell_type": "code",
   "execution_count": null,
   "metadata": {},
   "outputs": [],
   "source": [
    "dat = pd.merge(purchases, survey, on='Survey ResponseID', how='left')"
   ]
  },
  {
   "cell_type": "code",
   "execution_count": null,
   "metadata": {},
   "outputs": [],
   "source": [
    "dat.columns"
   ]
  },
  {
   "cell_type": "code",
   "execution_count": null,
   "metadata": {},
   "outputs": [],
   "source": [
    "dat.isnull().sum()"
   ]
  },
  {
   "cell_type": "code",
   "execution_count": null,
   "metadata": {},
   "outputs": [],
   "source": [
    "print(\"\\nDescriptive statistics for numerical columns:\")\n",
    "purchases.describe()"
   ]
  },
  {
   "cell_type": "code",
   "execution_count": null,
   "metadata": {},
   "outputs": [],
   "source": [
    "print(\"Number of unique values in each column:\")\n",
    "purchases.nunique()"
   ]
  },
  {
   "cell_type": "code",
   "execution_count": null,
   "metadata": {},
   "outputs": [],
   "source": [
    "print(\"Frequency counts for 'Category' column:\")\n",
    "purchases['Category'].value_counts()"
   ]
  },
  {
   "cell_type": "code",
   "execution_count": null,
   "metadata": {},
   "outputs": [],
   "source": [
    "print(\"Frequency counts for 'Title' column (Top 10 Titles):\")\n",
    "purchases['Title'].value_counts().head(10)"
   ]
  },
  {
   "cell_type": "code",
   "execution_count": null,
   "metadata": {},
   "outputs": [],
   "source": [
    "purchases['Order Date'] = pd.to_datetime(purchases['Order Date'])\n",
    "print(\"Number of purchases per month:\")\n",
    "purchases.groupby(purchases['Order Date'].dt.to_period('M')).size()"
   ]
  },
  {
   "cell_type": "code",
   "execution_count": null,
   "metadata": {},
   "outputs": [],
   "source": [
    "purchases['Total Purchase Amount'] = purchases['Purchase Price Per Unit'] * purchases['Quantity']\n",
    "print(\"Total revenue by category:\")\n",
    "purchases.groupby('Category')['Total Purchase Amount'].sum().sort_values(ascending=False)"
   ]
  },
  {
   "cell_type": "code",
   "execution_count": null,
   "metadata": {},
   "outputs": [],
   "source": [
    "print(\"Number of purchases by state:\")\n",
    "purchases['Shipping Address State'].value_counts()"
   ]
  },
  {
   "cell_type": "code",
   "execution_count": null,
   "metadata": {},
   "outputs": [],
   "source": [
    "print(\"Average purchase amount per category:\")\n",
    "purchases.groupby('Category')['Total Purchase Amount'].mean().sort_values(ascending=False)"
   ]
  },
  {
   "cell_type": "code",
   "execution_count": null,
   "metadata": {},
   "outputs": [],
   "source": [
    "import matplotlib.pyplot as plt\n",
    "import seaborn as sns\n",
    "\n",
    "purchases['Order Date'] = pd.to_datetime(purchases['Order Date'])\n",
    "\n",
    "purchases['Total Purchase Amount'] = purchases['Purchase Price Per Unit'] * purchases['Quantity']\n",
    "\n",
    "print(\"\\nCorrelation between numerical variables:\")\n",
    "correlation_matrix = purchases[['Purchase Price Per Unit', 'Quantity', 'Total Purchase Amount']].corr()\n",
    "print(correlation_matrix)\n",
    "\n",
    "plt.figure(figsize=(8,6))\n",
    "sns.heatmap(correlation_matrix, annot=True, cmap='coolwarm', linewidths=0.5)\n",
    "plt.title('Correlation Heatmap of Numerical Variables')\n",
    "plt.show()\n",
    "\n",
    "plt.figure(figsize=(10,6))\n",
    "sns.scatterplot(x='Purchase Price Per Unit', y='Quantity', data=purchases)\n",
    "plt.title('Relationship between Purchase Price and Quantity')\n",
    "plt.xlabel('Purchase Price Per Unit')\n",
    "plt.ylabel('Quantity Purchased')\n",
    "plt.show()\n",
    "\n",
    "plt.figure(figsize=(12,8))\n",
    "category_sales = purchases.groupby('Category')['Total Purchase Amount'].sum().sort_values(ascending=False).head(10)\n",
    "sns.barplot(x=category_sales.index, y=category_sales.values)\n",
    "plt.title('Total Sales by Top 10 Categories')\n",
    "plt.xticks(rotation=45)\n",
    "plt.ylabel('Total Purchase Amount')\n",
    "plt.show()\n",
    "\n",
    "plt.figure(figsize=(15,8))\n",
    "state_sales = purchases.groupby('Shipping Address State')['Total Purchase Amount'].sum().sort_values(ascending=False).head(10)\n",
    "sns.barplot(x=state_sales.index, y=state_sales.values)\n",
    "plt.title('Total Sales by Top 10 States')\n",
    "plt.ylabel('Total Purchase Amount')\n",
    "plt.show()\n",
    "\n",
    "category_pivot = purchases.pivot_table(values='Purchase Price Per Unit', index='Category', aggfunc='mean').sort_values(by='Purchase Price Per Unit', ascending=False)\n",
    "print(\"\\nAverage Price Per Unit by Category (Top 10):\")\n",
    "print(category_pivot.head(10))\n",
    "\n",
    "quantity_pivot = purchases.pivot_table(values='Quantity', index='Category', aggfunc='mean').sort_values(by='Quantity', ascending=False)\n",
    "print(\"\\nAverage Quantity Purchased by Category (Top 10):\")\n",
    "print(quantity_pivot.head(10))\n",
    "\n",
    "monthly_sales = purchases.groupby(purchases['Order Date'].dt.to_period('M'))['Total Purchase Amount'].sum()\n",
    "\n",
    "plt.figure(figsize=(12,6))\n",
    "monthly_sales.plot(kind='line')\n",
    "plt.title('Monthly Sales Over Time')\n",
    "plt.xlabel('Month')\n",
    "plt.ylabel('Total Purchase Amount')\n",
    "plt.show()"
   ]
  }
 ],
 "metadata": {
  "kernelspec": {
   "display_name": "base",
   "language": "python",
   "name": "python3"
  },
  "language_info": {
   "codemirror_mode": {
    "name": "ipython",
    "version": 3
   },
   "file_extension": ".py",
   "mimetype": "text/x-python",
   "name": "python",
   "nbconvert_exporter": "python",
   "pygments_lexer": "ipython3",
   "version": "3.11.4"
  }
 },
 "nbformat": 4,
 "nbformat_minor": 2
}
